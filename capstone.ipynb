import zipfile
import os
from PIL import Image
import pytesseract
import cv2 as cv
import numpy as np

# loading the face detection classifier
face_cascade = cv.CascadeClassifier('readonly/haarcascade_frontalface_default.xml')
# the rest is up to you!

Global_list=[]

def unpack(file_name):
    if not os.path.isdir('images'):
        os.mkdir('images')
        local_zip = 'readonly/'+file_name
        zip_ref = zipfile.ZipFile(local_zip, 'r')
        zip_ref.extractall('images')
        zip_ref.close()

def get_text(img_path):
    pages_list=os.listdir(img_path)
    
    for page_name in pages_list:
        local_list=[] 
        
        local_list.append(page_name)
        img = Image.open(img_path+page_name)
    
        local_list.append(pytesseract.image_to_string(img).replace('-\n',''))

        Global_list.append(local_list)

def search(text,img_path):
    for local_list in Global_list:
        if text in local_list[1]:
            print('Results found in file',local_list[0])
            
            try:
                img = Image.open(str(img_path+local_list[0]))
                faces = (face_cascade.detectMultiScale(np.array(img),1.35,4)).tolist()
                faces_in_each = []
                
                for x,y,w,h in faces:
                    faces_in_each.append(img.crop((x,y,x+w,y+h)))
             
                contact_sheet = Image.new(img.mode, (550,110*int(np.ceil(len(faces_in_each)/5))))
                x = 0
                y = 0

                for face in faces_in_each:
                    face.thumbnail((110,110))
                    contact_sheet.paste(face, (x, y))
                    
                    if x+110 == contact_sheet.width:
                        x=0
                        y=y+110
                    else:
                        x=x+110
                        
                display(contact_sheet)
            except:
                print('There are no faces in that file!')

unpack('images.zip')
get_text("images/")
search(text="Mark", img_path="images/")